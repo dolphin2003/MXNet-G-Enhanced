{
 "cells": [
  {
   "cell_type": "markdown",
   "metadata": {
    "collapsed": true
   },
   "source": [
    "## Neural Art Demo\n",
    "This demo is an implementation of the algorithm in the paper [A Neural Algorithm of Artistic Style](http://arxiv.org/abs/1508.06576) by Leon A. Gatys, Alexander S. Ecker, and Matthias Bethge.\n",
    "\n",
    "This algorithm transfers 'artistic style' from one image to the other. For example, you can make your favourite photo looks like van Gogh's painting.\n",
    "\n",
    "First, we need to images to work with. We extract the 'style' image's style and transfer it to the 'content' image.\n",
    "The default images are photo of buildings and van Gogh's painting.\n",
    "You can swap them with any images on the internet you like."
   ]
  },
  {
   "cell_type": "code",
   "execution_count": 25,
   "metadata": {
    "collapsed": false
   },
   "outputs": [
    {
     "data": {
      "image/png": "iVBORw0KGgoAAAANSUhEUgAAAXQAAACQCAYAAAAYwZBzAAAABHNCSVQICAgIfAhkiAAAAAlwSFlz\nAAALEgAACxIB0t1+/AAAIABJREFUeJzsvXeYXNWZ7vtbe+/K1dU5t7pbrW6lVkQJJSRAYITBRBOc\ncDjYB8/Yx2HsOeOZ8cgJ2+PxjPOxPcYBB8DY2AYTLYRAoIByzt2tzrm6cu247h9V1V0tAdfn3hmE\nTb/P009V7bX2SrXr/b71rm+tFlJKpjCFKUxhCn/5UC52A6YwhSlMYQr/NZgi9ClMYQpT+CvBFKFP\nYQpTmMJfCaYIfQpTmMIU/kowRehTmMIUpvBXgilCn8IUpjCFvxJMEfoUpjCFKfyVYIrQpzCFKbzu\nEEJsEkL8/L+wvK1CiA/8V5X3l4opQp/CFKbw14CpHZJMEfpfJIQQPxVCfOFit2MKbx4IIaYJIR4R\nQgwKIYaFEN8WGfyTEKJDCDEghPiZECKUzd8ohHCEEO8RQpwTQgwJIT6TTbsG+AfgdiFETAixP3u9\nUAhxnxCiVwjRLYT4ghBCyaa9VwjxohDia0KIUSFEW7YchBBfAtYC38mW962LMUZvBEwR+hsA/x+m\nn5Ipj2QKrxOEECrwR6AdaABqgAeB9wF3AeuBJiAIfOe821cDM4Ergc8KIWZJKZ8C7gUelFIWSCkX\nZ/P+FDCAGcBi4Grgf+SVtRw4AZQC/wrcByCl/EdgG/A32fI++l/V9780TBH6Xy7ExW7AFN40WA5U\nA5+SUqaklIaU8iXgncDXpZQdUsoEGa/7jpxXncXnpJS6lPIQcBBYmL0uyHuGhRCVwEbg49k6hoBv\nAHfklXVOSnmfzBxAdT9QLYSoyEt/0/8mpgj9dYYQ4u+z08moEOKEEOJazpt+CiFuFULsOe++Twgh\nfv8qZV4nhDgghAgLIV4SQsx/PfoyhTcNppEhU+e869XAubzPnYAGVOZd6897nyTjxb8SGgAX0Jd9\njsPA94HyVypLSpnMvs0v700/a9UudgPeTBBCzAL+BlgqpewXQtST+Q7uBWZIKd+TzecGfiCEmC2l\nPJG9/d3A51+hzMVkpp7XAXuy+R7NTm2N//ZOTeHNgC6gXgihSintvOu9QGPe53rAAgay718L55Nv\nF6ADpa9gOP4cvOnJHKY89NcbNuABWoUQLillp5SyjfOmn1kifgh4F4AQopWMB/PHvLJyD/AHgR9I\nKXfLDO4n88O49L+9N1N4s2AX0Ad8RQjhF0J4hRCrgQeAj2cXQINM6OJ/DiH3A41CCAEgpewDngH+\nXQhRIIRQhBAzhBCX/ZltHCCjvb+pMUXoryOklGeAjwGbgAEhxANCiOpXyf4z4B3Z9+8GHpJSmq+Q\nrwH4ZG6amp2q1pGZDk9hCv+/kSXo64FmMrJKF/B24MfAz4EXgDYykspH8m99jWIfzr6O5MmL7wHc\nwDFgNJunKq+s88vL//xN4NZsBMw3/uzO/ZVBTP2Di4sDIUQB8AMyU9QzQIuU8t3n5TlBxgP/OXCn\nlHJ79vpPgC4p5WeFEN8HOqWU976uHZjCFKbwhsOUh/46QggxUwhxhRDCQ0YWSZORYQbIm37m4X4y\nYWBGjsxzRTEh0fwn8D+FEMuzccEBIcRbs1PgKUxhCm8iTBH66wsP8GVgiIwmWUYmwuWVpp+Q8cxb\ngV+cV8749FNKuRe4mwzxjwKnyUxdpzCFKbzJMCW5vIEhhPCR8d4XSynPXuz2TGEKU3hjYyps8Y2N\ne4CXp8j8Lwf3/vRPEkCIjKMkhEDkgj6EREUghEBKG0VRMunjSltmwqwoysS9QqDk1DXhoCBQhMBR\nMtcEEwElmQ2djN+b/yoBV3YNUUqJEPYFeZ1cPTJDC06eAKgiQRE4Uo7Xk2tnfn+lAFsKco6ilBIp\nMj1QHQsUgW2lMRIpUMDtK0BRVZCZs